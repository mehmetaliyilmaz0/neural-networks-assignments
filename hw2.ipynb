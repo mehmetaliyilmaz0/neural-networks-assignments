{
 "cells": [
  {
   "cell_type": "markdown",
   "metadata": {},
   "source": [
    "21050111057\n",
    "Mehmet Ali Yılmaz"
   ]
  },
  {
   "cell_type": "code",
   "execution_count": 6,
   "metadata": {},
   "outputs": [],
   "source": [
    "import torch\n",
    "import torch.nn as nn\n",
    "import torch.optim as optim\n",
    "from torchvision import datasets, transforms\n",
    "from torch.utils.data import DataLoader\n",
    "import matplotlib.pyplot as plt\n",
    "from tqdm import tqdm"
   ]
  },
  {
   "cell_type": "code",
   "execution_count": 7,
   "metadata": {},
   "outputs": [],
   "source": [
    "# These are the mean and std values for CIFAR-100, used for normalization\n",
    "mean = (0.5071, 0.4867, 0.4408)\n",
    "std = (0.2675, 0.2565, 0.2761)\n",
    "\n",
    "\n",
    "transform = transforms.Compose([\n",
    "    transforms.ToTensor(),\n",
    "    transforms.Normalize(mean, std)\n",
    "])\n",
    "# Load CIFAR-100 dataset , which has 100 classes\n",
    "# The dataset is split into training and testing sets   \n",
    "train_dataset = datasets.CIFAR100(root='./data', train=True, download=True, transform=transform)\n",
    "test_dataset  = datasets.CIFAR100(root='./data', train=False, download=True, transform=transform)\n",
    "# Create data loaders, one for training and one for testing\n",
    "train_loader = DataLoader(train_dataset, batch_size=64, shuffle=True)\n",
    "test_loader  = DataLoader(test_dataset, batch_size=1000, shuffle=False)"
   ]
  },
  {
   "cell_type": "code",
   "execution_count": null,
   "metadata": {},
   "outputs": [],
   "source": [
    "class ImprovedLeNet5(nn.Module):\n",
    "    def __init__(self, num_classes=100):\n",
    "        super().__init__()      \n",
    "        self.features = nn.Sequential(\n",
    "            # The first layer is a convolutional layer with 3 input channels (RGB), 32 output channels, and a kernel size of 3\n",
    "            nn.Conv2d(3, 32, 3, padding=1),\n",
    "            nn.BatchNorm2d(32), # This layer normalizes the output of the previous layer to improve training speed and stability\n",
    "            nn.ReLU(inplace=True), # This layer applies the ReLU activation function to introduce non-linearity\n",
    "            \n",
    "            # The second layer is a convolutional layer with 32 input channels, 64 output channels, and a kernel size of 3\n",
    "            # The padding=1 ensures that the output size is the same as the input size\n",
    "            nn.Conv2d(32, 64, 3, padding=1),\n",
    "            nn.BatchNorm2d(64),\n",
    "            nn.ReLU(inplace=True),  \n",
    "            nn.MaxPool2d(2), # This layer reduces the spatial dimensions by half\n",
    "            nn.Dropout(0.25), # This layer randomly sets 25% of the input units to 0 during training to prevent overfitting\n",
    "            \n",
    "            # The third layer is a convolutional layer with 64 input channels, 128 output channels, and a kernel size of 3\n",
    "            nn.Conv2d(64, 128, 3, padding=1),\n",
    "            nn.BatchNorm2d(128),\n",
    "            nn.ReLU(inplace=True),\n",
    "            nn.MaxPool2d(2),\n",
    "            nn.Dropout(0.25),\n",
    "            # The fourth layer is a convolutional layer with 128 input channels, 256 output channels, and a kernel size of 3\n",
    "            nn.Conv2d(128, 256, 3, padding=1),\n",
    "            nn.BatchNorm2d(256), #\n",
    "            nn.ReLU(inplace=True),\n",
    "            nn.AdaptiveAvgPool2d((1, 1)), # This layer reduces the spatial dimensions to 1x1\n",
    "        )\n",
    "        self.classifier = nn.Conv2d(256, num_classes, 1)\n",
    "\n",
    "    def forward(self, x):\n",
    "        x = self.features(x)\n",
    "        x = self.classifier(x)\n",
    "        return x.view(x.size(0), -1)"
   ]
  },
  {
   "cell_type": "code",
   "execution_count": null,
   "metadata": {},
   "outputs": [],
   "source": [
    "model = ImprovedLeNet5()\n",
    "criterion = nn.CrossEntropyLoss()\n",
    "optimizer = optim.Adam(model.parameters(), lr=0.001)"
   ]
  },
  {
   "cell_type": "code",
   "execution_count": 10,
   "metadata": {},
   "outputs": [],
   "source": [
    "    # Training the model\n",
    "def train(model, data_loader, criterion, optimizer):\n",
    "    model.train()   # Set the model to training mode\n",
    "    total_loss, correct, total = 0.0, 0, 0 # Initialize variables to accumulate loss and correct predictions\n",
    "    for images, labels in tqdm(data_loader, desc=\"Training\", leave=False):\n",
    "        outputs = model(images)\n",
    "        loss = criterion(outputs, labels)   \n",
    "        optimizer.zero_grad() # Zero the gradients before the backward pass\n",
    "        loss.backward() # Backpropagation\n",
    "        optimizer.step() # Update the model parameters\n",
    "        total_loss += loss.item() * images.size(0) # Accumulate the loss\n",
    "        # Calculate the accuracy\n",
    "        _, preds = outputs.max(1) # Get the predicted class\n",
    "        # Compare the predicted class with the true class\n",
    "        correct += preds.eq(labels).sum().item() # Count the number of correct predictions\n",
    "        # Calculate the total number of samples\n",
    "        total += labels.size(0)     \n",
    "    return total_loss / total, correct / total      \n",
    "\n",
    "def validate(model, data_loader, criterion):\n",
    "    model.eval() # Set the model to evaluation mode\n",
    "    # Initialize variables to accumulate loss and correct predictions\n",
    "    total_loss, correct, total = 0.0, 0, 0\n",
    "    # Disable gradient calculation for validation   \n",
    "    # This reduces memory consumption and speeds up computations\n",
    "    # since we don't need to compute gradients during validation\n",
    "    with torch.no_grad():\n",
    "        for images, labels in data_loader:\n",
    "            outputs = model(images)\n",
    "            loss = criterion(outputs, labels) # Calculate the loss\n",
    "            # Accumulate the loss\n",
    "            total_loss += loss.item() * images.size(0) \n",
    "            _, preds = outputs.max(1)   # Get the predicted class\n",
    "            correct += preds.eq(labels).sum().item() # Count the number of correct predictions\n",
    "            total += labels.size(0) # Calculate the total number of samples\n",
    "    return total_loss / total, correct / total"
   ]
  },
  {
   "cell_type": "code",
   "execution_count": 11,
   "metadata": {},
   "outputs": [
    {
     "name": "stderr",
     "output_type": "stream",
     "text": [
      "                                                           \r"
     ]
    },
    {
     "name": "stdout",
     "output_type": "stream",
     "text": [
      "Epoch 1/20 | Train Loss: 3.5714, Acc: 0.1534 | Val Loss: 3.2451, Acc: 0.2042\n"
     ]
    },
    {
     "name": "stderr",
     "output_type": "stream",
     "text": [
      "                                                           \r"
     ]
    },
    {
     "name": "stdout",
     "output_type": "stream",
     "text": [
      "Epoch 2/20 | Train Loss: 2.9196, Acc: 0.2644 | Val Loss: 2.7249, Acc: 0.3018\n"
     ]
    },
    {
     "name": "stderr",
     "output_type": "stream",
     "text": [
      "                                                           \r"
     ]
    },
    {
     "name": "stdout",
     "output_type": "stream",
     "text": [
      "Epoch 3/20 | Train Loss: 2.6037, Acc: 0.3308 | Val Loss: 2.5678, Acc: 0.3370\n"
     ]
    },
    {
     "name": "stderr",
     "output_type": "stream",
     "text": [
      "                                                           \r"
     ]
    },
    {
     "name": "stdout",
     "output_type": "stream",
     "text": [
      "Epoch 4/20 | Train Loss: 2.3879, Acc: 0.3728 | Val Loss: 2.3957, Acc: 0.3773\n"
     ]
    },
    {
     "name": "stderr",
     "output_type": "stream",
     "text": [
      "                                                           \r"
     ]
    },
    {
     "name": "stdout",
     "output_type": "stream",
     "text": [
      "Epoch 5/20 | Train Loss: 2.2225, Acc: 0.4137 | Val Loss: 2.2172, Acc: 0.4169\n"
     ]
    },
    {
     "name": "stderr",
     "output_type": "stream",
     "text": [
      "                                                           \r"
     ]
    },
    {
     "name": "stdout",
     "output_type": "stream",
     "text": [
      "Epoch 6/20 | Train Loss: 2.0987, Acc: 0.4422 | Val Loss: 2.0756, Acc: 0.4488\n"
     ]
    },
    {
     "name": "stderr",
     "output_type": "stream",
     "text": [
      "                                                           \r"
     ]
    },
    {
     "name": "stdout",
     "output_type": "stream",
     "text": [
      "Epoch 7/20 | Train Loss: 1.9916, Acc: 0.4647 | Val Loss: 2.0475, Acc: 0.4553\n"
     ]
    },
    {
     "name": "stderr",
     "output_type": "stream",
     "text": [
      "                                                           \r"
     ]
    },
    {
     "name": "stdout",
     "output_type": "stream",
     "text": [
      "Epoch 8/20 | Train Loss: 1.9141, Acc: 0.4816 | Val Loss: 1.9601, Acc: 0.4773\n"
     ]
    },
    {
     "name": "stderr",
     "output_type": "stream",
     "text": [
      "                                                           \r"
     ]
    },
    {
     "name": "stdout",
     "output_type": "stream",
     "text": [
      "Epoch 9/20 | Train Loss: 1.8489, Acc: 0.4979 | Val Loss: 1.9339, Acc: 0.4838\n"
     ]
    },
    {
     "name": "stderr",
     "output_type": "stream",
     "text": [
      "                                                           \r"
     ]
    },
    {
     "name": "stdout",
     "output_type": "stream",
     "text": [
      "Epoch 10/20 | Train Loss: 1.7852, Acc: 0.5106 | Val Loss: 1.8193, Acc: 0.5072\n"
     ]
    },
    {
     "name": "stderr",
     "output_type": "stream",
     "text": [
      "                                                           \r"
     ]
    },
    {
     "name": "stdout",
     "output_type": "stream",
     "text": [
      "Epoch 11/20 | Train Loss: 1.7289, Acc: 0.5273 | Val Loss: 1.8069, Acc: 0.5130\n"
     ]
    },
    {
     "name": "stderr",
     "output_type": "stream",
     "text": [
      "                                                           \r"
     ]
    },
    {
     "name": "stdout",
     "output_type": "stream",
     "text": [
      "Epoch 12/20 | Train Loss: 1.6789, Acc: 0.5364 | Val Loss: 1.7705, Acc: 0.5250\n"
     ]
    },
    {
     "name": "stderr",
     "output_type": "stream",
     "text": [
      "                                                           \r"
     ]
    },
    {
     "name": "stdout",
     "output_type": "stream",
     "text": [
      "Epoch 13/20 | Train Loss: 1.6370, Acc: 0.5477 | Val Loss: 1.8802, Acc: 0.4991\n"
     ]
    },
    {
     "name": "stderr",
     "output_type": "stream",
     "text": [
      "                                                           \r"
     ]
    },
    {
     "name": "stdout",
     "output_type": "stream",
     "text": [
      "Epoch 14/20 | Train Loss: 1.5895, Acc: 0.5617 | Val Loss: 1.7291, Acc: 0.5371\n"
     ]
    },
    {
     "name": "stderr",
     "output_type": "stream",
     "text": [
      "                                                           \r"
     ]
    },
    {
     "name": "stdout",
     "output_type": "stream",
     "text": [
      "Epoch 15/20 | Train Loss: 1.5540, Acc: 0.5689 | Val Loss: 1.7642, Acc: 0.5274\n"
     ]
    },
    {
     "name": "stderr",
     "output_type": "stream",
     "text": [
      "                                                           \r"
     ]
    },
    {
     "name": "stdout",
     "output_type": "stream",
     "text": [
      "Epoch 16/20 | Train Loss: 1.5174, Acc: 0.5777 | Val Loss: 1.6856, Acc: 0.5431\n"
     ]
    },
    {
     "name": "stderr",
     "output_type": "stream",
     "text": [
      "                                                           \r"
     ]
    },
    {
     "name": "stdout",
     "output_type": "stream",
     "text": [
      "Epoch 17/20 | Train Loss: 1.4915, Acc: 0.5838 | Val Loss: 1.6800, Acc: 0.5451\n"
     ]
    },
    {
     "name": "stderr",
     "output_type": "stream",
     "text": [
      "                                                           \r"
     ]
    },
    {
     "name": "stdout",
     "output_type": "stream",
     "text": [
      "Epoch 18/20 | Train Loss: 1.4597, Acc: 0.5908 | Val Loss: 1.6520, Acc: 0.5493\n"
     ]
    },
    {
     "name": "stderr",
     "output_type": "stream",
     "text": [
      "                                                           \r"
     ]
    },
    {
     "name": "stdout",
     "output_type": "stream",
     "text": [
      "Epoch 19/20 | Train Loss: 1.4335, Acc: 0.5979 | Val Loss: 1.6735, Acc: 0.5489\n"
     ]
    },
    {
     "name": "stderr",
     "output_type": "stream",
     "text": [
      "                                                           \r"
     ]
    },
    {
     "name": "stdout",
     "output_type": "stream",
     "text": [
      "Epoch 20/20 | Train Loss: 1.4070, Acc: 0.6040 | Val Loss: 1.6277, Acc: 0.5567\n"
     ]
    }
   ],
   "source": [
    "num_epochs = 20 # Number of epochs for training\n",
    "train_losses, train_accuracies = [], [] \n",
    "val_losses, val_accuracies = [], []\n",
    "# Loop through the number of epochs\n",
    "# In each epoch, we train the model on the training set and validate it on the validation set\n",
    "for epoch in range(num_epochs):\n",
    "    train_loss, train_acc = train(model, train_loader, criterion, optimizer)\n",
    "    val_loss, val_acc = validate(model, test_loader, criterion)\n",
    "    train_losses.append(train_loss)\n",
    "    train_accuracies.append(train_acc)\n",
    "    val_losses.append(val_loss)\n",
    "    val_accuracies.append(val_acc)\n",
    "    print(f\"Epoch {epoch+1}/{num_epochs} | \"\n",
    "          f\"Train Loss: {train_loss:.4f}, Acc: {train_acc:.4f} | \"\n",
    "          f\"Val Loss: {val_loss:.4f}, Acc: {val_acc:.4f}\")"
   ]
  },
  {
   "cell_type": "code",
   "execution_count": 12,
   "metadata": {},
   "outputs": [
    {
     "data": {
      "image/png": "[encoded data removed]",
      "text/plain": [
       "<Figure size 1200x500 with 2 Axes>"
      ]
     },
     "metadata": {},
     "output_type": "display_data"
    }
   ],
   "source": [
    "# Plotting the training and validation loss and accuracy\n",
    "plt.figure(figsize=(12,5))\n",
    "plt.subplot(1,2,1)\n",
    "plt.plot(train_losses, label='Train Loss')\n",
    "plt.plot(val_losses, label='Validation Loss')\n",
    "plt.xlabel('Epoch')\n",
    "plt.ylabel('Loss')\n",
    "plt.legend()\n",
    "plt.title('Loss')\n",
    "\n",
    "plt.subplot(1,2,2)\n",
    "plt.plot(train_accuracies, label='Train Accuracy')\n",
    "plt.plot(val_accuracies, label='Validation Accuracy')\n",
    "plt.xlabel('Epoch')\n",
    "plt.ylabel('Accuracy')\n",
    "plt.legend()\n",
    "plt.title('Accuracy')\n",
    "\n",
    "plt.show()"
   ]
  }
 ],
 "metadata": {
  "kernelspec": {
   "display_name": "Python 3",
   "language": "python",
   "name": "python3"
  },
  "language_info": {
   "codemirror_mode": {
    "name": "ipython",
    "version": 3
   },
   "file_extension": ".py",
   "mimetype": "text/x-python",
   "name": "python",
   "nbconvert_exporter": "python",
   "pygments_lexer": "ipython3",
   "version": "3.12.9"
  }
 },
 "nbformat": 4,
 "nbformat_minor": 2
}
